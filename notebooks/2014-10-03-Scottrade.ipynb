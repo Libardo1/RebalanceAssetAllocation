{
 "metadata": {
  "name": "",
  "signature": "sha256:d1eb73d6abee87054e25796716a21deea69d22d8c9f63329acc4096bb7347fbb"
 },
 "nbformat": 3,
 "nbformat_minor": 0,
 "worksheets": [
  {
   "cells": [
    {
     "cell_type": "code",
     "collapsed": false,
     "input": [
      "#!/usr/bin/env python\n",
      "\n",
      "%matplotlib inline\n",
      "\n",
      "from bs4 import BeautifulSoup\n",
      "from glob import glob\n",
      "from selenium import webdriver\n",
      "from selenium.webdriver.common.keys import Keys\n",
      "import cookielib\n",
      "import json\n",
      "import math\n",
      "import matplotlib.pyplot as plt\n",
      "import mechanize\n",
      "import numpy as np\n",
      "import os\n",
      "import re\n",
      "import requests\n",
      "import string\n",
      "import sys\n",
      "import time\n",
      "import unidecode\n",
      "import unicodedata\n",
      "import urllib\n",
      "import urllib2\n",
      "import pandas as pd\n",
      "from pandas.io.data import get_quote_yahoo\n",
      "import locale\n",
      "locale.setlocale( locale.LC_ALL, '' )"
     ],
     "language": "python",
     "metadata": {},
     "outputs": [
      {
       "metadata": {},
       "output_type": "pyout",
       "prompt_number": 1,
       "text": [
        "'en_AU.UTF-8'"
       ]
      }
     ],
     "prompt_number": 1
    },
    {
     "cell_type": "code",
     "collapsed": false,
     "input": [
      "# codes = {}\n",
      "# codes[\"AAPL\"] = \"individual\"\n",
      "# codes[\"EEM\"] =  \"Emerging\"\n",
      "# codes[\"EFA\"] =  \"Foreign\"\n",
      "# codes[\"GOOG\"] = \"individual\"\n",
      "# codes[\"GOOGL\"] = \"individual\"\n",
      "# codes[\"IVV\"] = \"Domestic\"\n",
      "# codes[\"RWR\"] =  \"RealEstate\"\n",
      "# codes[\"SHY\"] = \"BndsShrt\"\n",
      "# codes[\"TIP\"] =  \"USTIPS\"\n",
      "# codes[\"TLT\"] = \"BndsLng\"\n",
      "\n",
      "# with open(\"assetclass.json\", 'w') as file_handle:\n",
      "#     json.dump(codes, file_handle)\n"
     ],
     "language": "python",
     "metadata": {},
     "outputs": [],
     "prompt_number": 2
    },
    {
     "cell_type": "code",
     "collapsed": false,
     "input": [
      "# examples = [{\"username\": \"\".join(np.random.choice([letter for letter in string.digits], 8)),\n",
      "#              \"passwd\": \"\".join(np.random.choice([letter for letter in string.ascii_letters], 16)),\n",
      "#              \"url\": \"https://trading.scottrade.com/default.aspx\"},\n",
      "#             {\"username\": \"\".join(np.random.choice([letter for letter in string.digits], 8)),\n",
      "#              \"passwd\": \"\".join(np.random.choice([letter for letter in string.ascii_letters], 16)),\n",
      "#              \"url\": \"https://trading.scottrade.com/default.aspx\"}]\n",
      "             \n",
      "# with open(\"config-example.json\", 'w') as file_handle:\n",
      "#     json.dump(examples, file_handle)\n"
     ],
     "language": "python",
     "metadata": {},
     "outputs": [],
     "prompt_number": 3
    },
    {
     "cell_type": "code",
     "collapsed": false,
     "input": [
      "with open(\"config.json\", 'r') as file_handle:\n",
      "    credentials = json.load(file_handle)\n",
      "    \n",
      "with open(\"assetclass.json\", 'r') as file_handle:\n",
      "    codes = json.load(file_handle)\n",
      "    "
     ],
     "language": "python",
     "metadata": {},
     "outputs": [],
     "prompt_number": 4
    },
    {
     "cell_type": "code",
     "collapsed": false,
     "input": [
      "records = {} \n",
      "for credential in credentials:\n",
      "    time.sleep(5)\n",
      "    driver = webdriver.Chrome('/usr/bin/chromedriver')\n",
      "    driver.get(credential['url'])\n",
      "    elem = driver.find_element_by_id(\"ctl00_body_Login1_txtAccountNumber\")\n",
      "    elem.send_keys(credential['username'])\n",
      "    elem = driver.find_element_by_id(\"ctl00_body_Login1_txtPassword\")\n",
      "    elem.send_keys(credential['passwd'])\n",
      "    elem = driver.find_element_by_id(\"ctl00_body_sibLogOn\")\n",
      "    elem.click()\n",
      "    content = driver.page_source\n",
      "    soup = BeautifulSoup(content)\n",
      "    driver.close()\n",
      "    tabulka = soup.find(\"table\", {\"class\" : \"hpc-table w-Positions\"})\n",
      "\n",
      "    rows = tabulka.findAll('tr')\n",
      "    for tr in rows[1:]:\n",
      "        cols = tr.findAll('td')\n",
      "        symbol, qty, last, pchg, value, dchg = [c.text for c in cols]\n",
      "        qty = float(qty)\n",
      "        last = float(last)\n",
      "        value = float(\"\".join([number for number in unidecode.unidecode(value) if number in string.digits or number in \".\"]))\n",
      "        if symbol not in records:\n",
      "            records[symbol] = {}\n",
      "            records[symbol]['shares'] = qty\n",
      "            records[symbol]['assetClass'] = codes[symbol]\n",
      "        else:\n",
      "            records[symbol]['shares'] += qty\n",
      "\n",
      "    tabtop = soup.find(\"table\", {\"class\" : \"hpc-table hpc-balances\"})\n",
      "    row = tabtop.find('tr')\n",
      "    cash = float(\"\".join([number for number in unidecode.unidecode(row.findAll('td')[1].text) if number in string.digits or number in \".\"]))\n",
      "\n",
      "    if \"CASH\" not in records:\n",
      "        records[\"CASH\"] = cash\n",
      "    else:\n",
      "        records[\"CASH\"] += cash"
     ],
     "language": "python",
     "metadata": {},
     "outputs": [],
     "prompt_number": 5
    },
    {
     "cell_type": "code",
     "collapsed": false,
     "input": [
      "class Portfolio(object):\n",
      "    def __init__(self):\n",
      "        self.ideal_allocation = {}\n",
      "        self.stocks_owned = {}\n",
      "        self.class_total = {}\n",
      "        self.cash = 0.0\n",
      "        self.classification = {}\n",
      "        self.current_asset_percentages = []\n",
      "        self.core_total = 0.0\n",
      "        self.total = 0.0\n",
      "        self.tolerance = 3.5 # percentage off ideal before recommended action\n",
      "        pass\n",
      "    \n",
      "    def get_ideal_allocation(self, infile):\n",
      "        \"\"\"Reads in file of ideal portfolio allocation. \n",
      "           Use 1-word (no spaces) for asset class. \n",
      "           \"tolerance\" is a special word which gives the tolerance level\n",
      "            before a rebalance is recommended.\"\"\"\n",
      "        with open(infile, 'r') as fh: \n",
      "            for line in fh:\n",
      "                if line.split()[0] == \"tolerance\":\n",
      "                    self.tolerance = float(line.split()[1])\n",
      "                else:\n",
      "                    self.ideal_allocation[line.split()[0]] = float(line.split()[1])\n",
      "                    self.class_total[line.split()[0]] = 0.0\n",
      "    \n",
      "    def get_account_details(self, infiles):\n",
      "        for infile in infiles:\n",
      "            with open(infile, 'r') as fh:\n",
      "                for line in fh:\n",
      "                    name = line.split()[0]\n",
      "                    if name == 'CASH':\n",
      "                        self.cash += float(line.split()[1].strip(\"$\"))\n",
      "                    else:\n",
      "                        if name not in self.stocks_owned:\n",
      "                            self.stocks_owned[name] = {}\n",
      "                            self.stocks_owned[name]['shares'] = 0.0\n",
      "                            self.stocks_owned[name]['shares'] += float(line.split()[1])\n",
      "                            self.stocks_owned[name]['assetClass'] = line.split()[2]\n",
      "                        else:\n",
      "                            self.stocks_owned[name]['shares'] += float(line.split()[1])\n",
      "                            self.stocks_owned[name]['assetClass'] = line.split()[2]\n",
      "                            \n",
      "    def parse_account_details(self, webdict):\n",
      "        for name in webdict:\n",
      "            if name == 'CASH':\n",
      "                self.cash += webdict[name]\n",
      "            else:\n",
      "                if name not in self.stocks_owned:\n",
      "                    self.stocks_owned[name] = {}\n",
      "                    self.stocks_owned[name]['shares'] = 0.0\n",
      "                    self.stocks_owned[name]['shares'] += webdict[name]['shares']\n",
      "                    self.stocks_owned[name]['assetClass'] = webdict[name]['assetClass']\n",
      "                else:\n",
      "                    self.stocks_owned[name]['shares'] += webdict[name]['shares']\n",
      "                    self.stocks_owned[name]['assetClass'] = webdict[name]['assetClass']\n",
      "                            \n",
      "    def get_stock_prices(self):\n",
      "        dataframe = get_quote_yahoo([stock for stock in self.stocks_owned])\n",
      "        for stock in self.stocks_owned:\n",
      "            self.stocks_owned[stock]['price'] = dataframe.ix[stock]['last']\n",
      "    \n",
      "    def get_core_total(self):\n",
      "        self.core_total = 0.0\n",
      "        self.total = 0.0\n",
      "        self.core_total += self.cash\n",
      "        self.total += self.cash\n",
      "        for stock in self.stocks_owned:\n",
      "            temp_amount = self.stocks_owned[stock]['price'] * self.stocks_owned[stock]['shares']\n",
      "            if self.stocks_owned[stock]['assetClass'] in self.ideal_allocation:\n",
      "                self.core_total += temp_amount\n",
      "                self.class_total[self.stocks_owned[stock]['assetClass']] += temp_amount\n",
      "                self.total += temp_amount\n",
      "            else:\n",
      "                self.total += temp_amount\n",
      "        pass\n",
      "    \n",
      "    def get_current_allocation(self):\n",
      "        \"\"\"Remember same stock can't have two assetClasses.\"\"\"\n",
      "        for stock in self.stocks_owned:\n",
      "            if self.stocks_owned[stock]['assetClass'] in self.ideal_allocation:\n",
      "                temp_asset = self.stocks_owned[stock]['assetClass']\n",
      "                self.current_asset_percentages.append((stock, self.class_total[temp_asset] / self.core_total * 100. - self.ideal_allocation[temp_asset], temp_asset))\n",
      "    \n",
      "    def get_recommendations(self):\n",
      "        \"\"\"Print recommendations.\"\"\"\n",
      "        print \"Recommended actions:\"\n",
      "        for st, perc, asset in sorted(self.current_asset_percentages, key=lambda x: np.abs(x[1]), reverse=True):\n",
      "            shares = round(self.core_total * perc / 100. / self.stocks_owned[st]['price'], 0)\n",
      "            if np.abs(perc) >= self.tolerance:\n",
      "                if shares > 0:\n",
      "                    print \"Sell:\", int(np.abs(shares)), st, asset, round(perc,1)\n",
      "                if shares < 0:\n",
      "                    print \"Buy:\", int(np.abs(shares)), st, asset, round(perc,1)\n",
      "            else:\n",
      "                print \"W/in tol:\", \n",
      "                if shares > 0.0:\n",
      "                    print \"Sell\", int(np.abs(shares)), st, asset, round(perc,1)\n",
      "                else:\n",
      "                    print \"Buy\", int(np.abs(shares)), st, asset, round(perc,1)\n",
      "        pass\n",
      "        \n",
      "    def push_recommendations(self):\n",
      "        \"\"\"Pushover recommendations.\"\"\"\n",
      "        priority = 0\n",
      "        return_string = \"\"\n",
      "        return_string = '\\n'.join([return_string, \"Recommended actions:\", '\\n'])\n",
      "        for st, perc, asset in sorted(self.current_asset_percentages, key=lambda x: x[1], reverse=True):\n",
      "            shares = round(self.core_total * perc / 100. / self.stocks_owned[st]['price'], 0)\n",
      "            if np.abs(perc) >= self.tolerance:\n",
      "                priority = 1\n",
      "                if shares > 0:\n",
      "                    return_string = ' '.join([return_string, \"Sell:\", str(int(np.abs(shares))), str(st), str(asset), str(round(perc,1)), '\\n'])\n",
      "                if shares < 0:\n",
      "                    return_string = ' '.join([return_string, \"Buy:\",  str(int(np.abs(shares))), str(st), str(asset), str(round(perc,1)), '\\n'])\n",
      "            else:\n",
      "                return_string = ' '.join([return_string, \"W/in tol:\", ])\n",
      "                if shares > 0.0:\n",
      "                    return_string = ' '.join([return_string,  \"Sell\",  str(int(np.abs(shares))), str(st), str(asset), str(round(perc,1)), '\\n'])\n",
      "                else:\n",
      "                    return_string = ' '.join([return_string, \"Buy\",  str(int(np.abs(shares))), str(st), str(asset), str(round(perc,1)), '\\n'])\n",
      "        return return_string, priority\n",
      "    \n",
      "    def get_summary(self):\n",
      "        print \"Cash:\", locale.currency(self.cash, grouping=True)\n",
      "        print \"Core Total:\", locale.currency(self.core_total, grouping=True)\n",
      "        print \"Total:\", locale.currency(self.total, grouping=True)\n",
      "        pass\n",
      "\n",
      "    def push_summary(self):\n",
      "        \"\"\"Pushover summary.\"\"\"\n",
      "        return_string = \"\"\n",
      "        return_string = ''.join([return_string, \"Cash: \", locale.currency(self.cash, grouping=True), \"\\n\"])\n",
      "        return_string = ''.join([return_string, \"Core Total: \", locale.currency(self.core_total, grouping=True), \"\\n\"])\n",
      "        return_string = ''.join([return_string, \"Total: \", locale.currency(self.total, grouping=True), \"\\n\"])\n",
      "        return return_string\n",
      "    \n",
      "    def detailed_summary(self):\n",
      "        for stock in self.stocks_owned:\n",
      "            print stock, locale.currency(self.stocks_owned[stock]['price'] * self.stocks_owned[stock]['shares'], grouping=True)\n",
      "        pass\n",
      "        "
     ],
     "language": "python",
     "metadata": {},
     "outputs": [],
     "prompt_number": 6
    },
    {
     "cell_type": "code",
     "collapsed": false,
     "input": [
      "whatever = Portfolio()\n",
      "whatever.parse_account_details(records)\n",
      "whatever.get_ideal_allocation(\"/Users/jwhitmore/github/RebalanceAssetAllocation/ideal-allocation.txt\")\n",
      "whatever.get_stock_prices()\n",
      "whatever.get_core_total()\n",
      "whatever.get_current_allocation()"
     ],
     "language": "python",
     "metadata": {},
     "outputs": [],
     "prompt_number": 7
    },
    {
     "cell_type": "code",
     "collapsed": false,
     "input": [
      "whatever.get_summary()"
     ],
     "language": "python",
     "metadata": {},
     "outputs": [
      {
       "output_type": "stream",
       "stream": "stdout",
       "text": [
        "Cash: $3,266.55\n",
        "Core Total: $54,229.34\n",
        "Total: $76,093.81\n"
       ]
      }
     ],
     "prompt_number": 8
    },
    {
     "cell_type": "code",
     "collapsed": false,
     "input": [
      "whatever.get_recommendations()"
     ],
     "language": "python",
     "metadata": {},
     "outputs": [
      {
       "output_type": "stream",
       "stream": "stdout",
       "text": [
        "Recommended actions:\n",
        "Sell: 49 RWR RealEstate 7.3\n",
        "Buy: 59 EFA Foreign -6.9\n",
        "Sell: 18 IVV Domestic 6.4\n",
        "Buy: 17 TIP USTIPS -3.6\n",
        "W/in tol: Sell 3 TLT BndsLng 0.8\n",
        "W/in tol: Buy 0 SHY BndsShrt -0.0\n"
       ]
      }
     ],
     "prompt_number": 9
    },
    {
     "cell_type": "code",
     "collapsed": false,
     "input": [
      "whatever.detailed_summary()"
     ],
     "language": "python",
     "metadata": {},
     "outputs": [
      {
       "output_type": "stream",
       "stream": "stdout",
       "text": [
        "GOOG $2,886.75\n",
        "GOOGL $2,938.90\n",
        "TLT $4,475.26\n",
        "SHY $4,058.88\n",
        "AAPL $16,038.82\n",
        "TIP $6,188.05\n",
        "RWR $12,069.00\n",
        "IVV $19,756.00\n",
        "EFA $4,415.60\n"
       ]
      }
     ],
     "prompt_number": 10
    },
    {
     "cell_type": "code",
     "collapsed": false,
     "input": [
      "records"
     ],
     "language": "python",
     "metadata": {},
     "outputs": [
      {
       "metadata": {},
       "output_type": "pyout",
       "prompt_number": 11,
       "text": [
        "{u'AAPL': {'assetClass': u'individual', 'shares': 161.0},\n",
        " 'CASH': 3266.5499999999997,\n",
        " u'EFA': {'assetClass': u'Foreign', 'shares': 70.0},\n",
        " u'GOOG': {'assetClass': u'individual', 'shares': 5.0},\n",
        " u'GOOGL': {'assetClass': u'individual', 'shares': 5.0},\n",
        " u'IVV': {'assetClass': u'Domestic', 'shares': 100.0},\n",
        " u'RWR': {'assetClass': u'RealEstate', 'shares': 150.0},\n",
        " u'SHY': {'assetClass': u'BndsShrt', 'shares': 48.0},\n",
        " u'TIP': {'assetClass': u'USTIPS', 'shares': 55.0},\n",
        " u'TLT': {'assetClass': u'BndsLng', 'shares': 38.0}}"
       ]
      }
     ],
     "prompt_number": 11
    },
    {
     "cell_type": "code",
     "collapsed": false,
     "input": [
      "codes"
     ],
     "language": "python",
     "metadata": {},
     "outputs": [
      {
       "metadata": {},
       "output_type": "pyout",
       "prompt_number": 12,
       "text": [
        "{u'AAPL': u'individual',\n",
        " u'EEM': u'Emerging',\n",
        " u'EFA': u'Foreign',\n",
        " u'GOOG': u'individual',\n",
        " u'GOOGL': u'individual',\n",
        " u'IVV': u'Domestic',\n",
        " u'RWR': u'RealEstate',\n",
        " u'SHY': u'BndsShrt',\n",
        " u'TIP': u'USTIPS',\n",
        " u'TLT': u'BndsLng'}"
       ]
      }
     ],
     "prompt_number": 12
    },
    {
     "cell_type": "code",
     "collapsed": false,
     "input": [
      "whatever.current_asset_percentages"
     ],
     "language": "python",
     "metadata": {},
     "outputs": [
      {
       "metadata": {},
       "output_type": "pyout",
       "prompt_number": 13,
       "text": [
        "[(u'TLT', 0.75246997289659134, u'BndsLng'),\n",
        " (u'SHY', -0.015343170320714528, u'BndsShrt'),\n",
        " (u'TIP', -3.5891106179791219, u'USTIPS'),\n",
        " (u'RWR', 7.2554801515194534, u'RealEstate'),\n",
        " (u'IVV', 6.430463656758505, u'Domestic'),\n",
        " (u'EFA', -6.857544274003704, u'Foreign')]"
       ]
      }
     ],
     "prompt_number": 13
    },
    {
     "cell_type": "code",
     "collapsed": false,
     "input": [],
     "language": "python",
     "metadata": {},
     "outputs": []
    }
   ],
   "metadata": {}
  }
 ]
}